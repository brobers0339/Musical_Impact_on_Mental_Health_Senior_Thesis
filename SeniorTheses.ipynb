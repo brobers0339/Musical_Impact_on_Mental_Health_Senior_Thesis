{
 "cells": [
  {
   "cell_type": "code",
   "execution_count": 2,
   "id": "b50e5667",
   "metadata": {},
   "outputs": [],
   "source": [
    "import pandas as pd\n",
    "\n",
    "df = pd.read_csv(\"https://raw.githubusercontent.com/brobers0339/Musical_Impact_on_Mental_Health_Senior_Thesis/refs/heads/main/Music%26MentalHealthDataset.csv\")\n",
    "\n",
    "df_cleaned = df.drop(['Timestamp', 'Age', 'Primary streaming service', 'Exploratory', 'Permissions', 'BPM', 'Foreign languages'], axis=1)\n",
    "\n",
    "df_cleaned['obs_count'] = range(1, len(df_cleaned) + 1)\n"
   ]
  },
  {
   "cell_type": "code",
   "execution_count": 26,
   "id": "30fc730a",
   "metadata": {},
   "outputs": [
    {
     "name": "stdout",
     "output_type": "stream",
     "text": [
      "Index(['Hours per day', 'While working', 'Instrumentalist', 'Composer',\n",
      "       'Fav genre', 'Frequency [Classical]', 'Frequency [Country]',\n",
      "       'Frequency [EDM]', 'Frequency [Folk]', 'Frequency [Gospel]',\n",
      "       'Frequency [Hip hop]', 'Frequency [Jazz]', 'Frequency [K pop]',\n",
      "       'Frequency [Latin]', 'Frequency [Lofi]', 'Frequency [Metal]',\n",
      "       'Frequency [Pop]', 'Frequency [R&B]', 'Frequency [Rap]',\n",
      "       'Frequency [Rock]', 'Frequency [Video game music]', 'Anxiety',\n",
      "       'Depression', 'Insomnia', 'OCD', 'Music effects', 'obs_count',\n",
      "       'Effects', 'Effects_remapped'],\n",
      "      dtype='object')\n"
     ]
    }
   ],
   "source": [
    "print(df_cleaned.columns)"
   ]
  },
  {
   "cell_type": "code",
   "execution_count": 3,
   "id": "3a026e5f",
   "metadata": {},
   "outputs": [],
   "source": [
    "def convert_likert_to_numeric(df, freq_cols, mapping=None):\n",
    "    if mapping is None:\n",
    "        mapping = {\n",
    "            \"Never\" : 0,\n",
    "            \"Rarely\" : 1,\n",
    "            \"Sometimes\" : 2,\n",
    "            \"Often\" : 3,\n",
    "            \"Always\" : 4,\n",
    "\n",
    "        }\n",
    "    df_converted = df.copy()\n",
    "    for col in freq_cols:\n",
    "        df_converted[col] = df_converted[col].map(mapping).fillna(0)\n",
    "    \n",
    "    return df_converted"
   ]
  },
  {
   "cell_type": "code",
   "execution_count": 14,
   "id": "f49c075b",
   "metadata": {},
   "outputs": [
    {
     "name": "stdout",
     "output_type": "stream",
     "text": [
      "Optimization terminated successfully.\n",
      "         Current function value: 0.676787\n",
      "         Iterations: 39\n",
      "         Function evaluations: 41\n",
      "         Gradient evaluations: 41\n",
      "                              OrderedModel Results                              \n",
      "================================================================================\n",
      "Dep. Variable:     Effects_remapped_cat   Log-Likelihood:                -498.12\n",
      "Model:                     OrderedModel   AIC:                             1044.\n",
      "Method:              Maximum Likelihood   BIC:                             1155.\n",
      "Date:                  Thu, 02 Oct 2025                                         \n",
      "Time:                          19:41:17                                         \n",
      "No. Observations:                   736                                         \n",
      "Df Residuals:                       712                                         \n",
      "Df Model:                            21                                         \n",
      "================================================================================================\n",
      "                                   coef    std err          z      P>|z|      [0.025      0.975]\n",
      "------------------------------------------------------------------------------------------------\n",
      "Hours per day                   -0.0174      0.029     -0.594      0.553      -0.075       0.040\n",
      "Frequency [Classical]            0.1077      0.111      0.973      0.330      -0.109       0.324\n",
      "Frequency [Country]             -0.1296      0.124     -1.045      0.296      -0.373       0.113\n",
      "Frequency [EDM]                 -0.0567      0.114     -0.499      0.618      -0.279       0.166\n",
      "Frequency [Folk]                 0.0474      0.114      0.414      0.679      -0.177       0.272\n",
      "Frequency [Gospel]              -0.2458      0.158     -1.558      0.119      -0.555       0.063\n",
      "Frequency [Hip hop]             -0.3017      0.127     -2.379      0.017      -0.550      -0.053\n",
      "Frequency [Jazz]                 0.0042      0.114      0.037      0.971      -0.220       0.228\n",
      "Frequency [K pop]                0.1458      0.138      1.054      0.292      -0.125       0.417\n",
      "Frequency [Latin]               -0.1683      0.134     -1.253      0.210      -0.432       0.095\n",
      "Frequency [Lofi]                -0.0945      0.116     -0.816      0.414      -0.321       0.132\n",
      "Frequency [Metal]                0.1076      0.114      0.943      0.346      -0.116       0.331\n",
      "Frequency [Pop]                  0.0460      0.097      0.475      0.635      -0.144       0.236\n",
      "Frequency [R&B]                 -0.1736      0.117     -1.490      0.136      -0.402       0.055\n",
      "Frequency [Rap]                  0.1829      0.128      1.428      0.153      -0.068       0.434\n",
      "Frequency [Rock]                -0.0512      0.097     -0.528      0.598      -0.241       0.139\n",
      "Frequency [Video game music]    -0.1920      0.108     -1.777      0.075      -0.404       0.020\n",
      "Anxiety                         -0.1220      0.038     -3.201      0.001      -0.197      -0.047\n",
      "Depression                       0.0500      0.035      1.429      0.153      -0.019       0.119\n",
      "Insomnia                         0.0238      0.030      0.788      0.431      -0.035       0.083\n",
      "OCD                              0.0019      0.033      0.057      0.955      -0.063       0.067\n",
      "0/1                             -5.5578      0.475    -11.693      0.000      -6.489      -4.626\n",
      "1/2                              1.7546      0.063     27.633      0.000       1.630       1.879\n",
      "2/3                              0.9994      0.088     11.341      0.000       0.827       1.172\n",
      "================================================================================================\n"
     ]
    }
   ],
   "source": [
    "import statsmodels.api as sm\n",
    "from statsmodels.miscmodels.ordinal_model import OrderedModel\n",
    "\n",
    "#Ordinal Logit Regressional Model\n",
    "df_cleaned['Effects_remapped'] = df_cleaned['Music effects'].map({\n",
    "    'Improve' : 'Improved',\n",
    "    'No effect' : 'No Effect',\n",
    "    'Worsen' : 'Worsened',\n",
    "    })\n",
    "df_cleaned['Effects_remapped'] = df_cleaned['Effects_remapped'].fillna('Unknown')\n",
    "df_cleaned['Effects_remapped_cat'] = df_cleaned['Effects_remapped'].map({\n",
    "    'Improved' : 1,\n",
    "    'No Effect' : 2,\n",
    "    'Worsened' : 3,\n",
    "    'Unknown' : 0\n",
    "})\n",
    "\n",
    "freq_cols = ['Frequency [Classical]', \n",
    "             'Frequency [Country]', \n",
    "             'Frequency [EDM]', \n",
    "             'Frequency [Folk]', \n",
    "             'Frequency [Gospel]', \n",
    "             'Frequency [Hip hop]', \n",
    "             'Frequency [Jazz]', \n",
    "             'Frequency [K pop]', \n",
    "             'Frequency [Latin]', \n",
    "             'Frequency [Lofi]', \n",
    "             'Frequency [Metal]', \n",
    "             'Frequency [Pop]', \n",
    "             'Frequency [R&B]', \n",
    "             'Frequency [Rap]', \n",
    "             'Frequency [Rock]', \n",
    "             'Frequency [Video game music]']\n",
    "\n",
    "df_explanatory_cols = convert_likert_to_numeric(df_cleaned, freq_cols)\n",
    "df_explanatory_cols = df_explanatory_cols.drop(['While working', 'Instrumentalist', 'Composer', 'Fav genre', 'Music effects', 'Effects_remapped', 'obs_count', 'Effects_remapped_cat'], axis=1)\n",
    "\n",
    "model = OrderedModel(\n",
    "    df_cleaned['Effects_remapped_cat'],\n",
    "    df_explanatory_cols,\n",
    "    distr='logit'\n",
    ")\n",
    "\n",
    "res = model.fit(method='bfgs')\n",
    "print(res.summary())"
   ]
  },
  {
   "cell_type": "code",
   "execution_count": 15,
   "id": "26ca1bef",
   "metadata": {},
   "outputs": [
    {
     "name": "stdout",
     "output_type": "stream",
     "text": [
      "Hours per day -0.07391006661895753 0.04502039465651582\n",
      "Frequency [Classical] 0.015536134688809678 0.673905682670318\n",
      "Frequency [Country] -0.04875197720908459 0.1864528221090422\n",
      "Frequency [EDM] -0.0399276532450674 0.27934124899912105\n",
      "Frequency [Folk] -0.011766926987839486 0.74995616252175\n",
      "Frequency [Gospel] -0.07253474054133079 0.04917570779823887\n",
      "Frequency [Hip hop] -0.08620206816973518 0.019336280033101227\n",
      "Frequency [Jazz] -0.037382173262331245 0.31116373107712125\n",
      "Frequency [K pop] 0.0016418661291255697 0.964532130381327\n",
      "Frequency [Latin] -0.05309459161289488 0.1501542139267174\n",
      "Frequency [Lofi] -0.06176678749855759 0.0940438058341394\n",
      "Frequency [Metal] 0.003067292385951862 0.9337940400103282\n",
      "Frequency [Pop] 0.020614355263660726 0.5765970721584182\n",
      "Frequency [R&B] -0.07348633602538635 0.04626792002794286\n",
      "Frequency [Rap] -0.017046370406820905 0.6442936401979953\n",
      "Frequency [Rock] -0.012648220446445636 0.7319234102544904\n",
      "Frequency [Video game music] -0.0631108362414013 0.08709038614949821\n",
      "Anxiety -0.08623066568162133 0.019296006006107546\n",
      "Depression -0.017863814437875502 0.628493735537188\n",
      "Insomnia 0.0019988794390254686 0.9568267130434117\n",
      "OCD -0.04570674693630422 0.21551861542717987\n"
     ]
    }
   ],
   "source": [
    "#Spearman's\n",
    "from scipy.stats import spearmanr\n",
    "\n",
    "for col in df_explanatory_cols:\n",
    "    corr, pval = spearmanr(df_cleaned['Effects_remapped_cat'], df_explanatory_cols[col])\n",
    "    print(col, corr, pval)"
   ]
  }
 ],
 "metadata": {
  "kernelspec": {
   "display_name": "Python 3",
   "language": "python",
   "name": "python3"
  },
  "language_info": {
   "codemirror_mode": {
    "name": "ipython",
    "version": 3
   },
   "file_extension": ".py",
   "mimetype": "text/x-python",
   "name": "python",
   "nbconvert_exporter": "python",
   "pygments_lexer": "ipython3",
   "version": "3.12.1"
  }
 },
 "nbformat": 4,
 "nbformat_minor": 5
}
